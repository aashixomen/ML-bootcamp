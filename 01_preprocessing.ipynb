{
  "nbformat": 4,
  "nbformat_minor": 0,
  "metadata": {
    "colab": {
      "provenance": [],
      "authorship_tag": "ABX9TyPBtRGqEliw9kmEj+a4roDx",
      "include_colab_link": true
    },
    "kernelspec": {
      "name": "python3",
      "display_name": "Python 3"
    },
    "language_info": {
      "name": "python"
    }
  },
  "cells": [
    {
      "cell_type": "markdown",
      "metadata": {
        "id": "view-in-github",
        "colab_type": "text"
      },
      "source": [
        "<a href=\"https://colab.research.google.com/github/aashixomen/ML-bootcamp/blob/main/01_preprocessing.ipynb\" target=\"_parent\"><img src=\"https://colab.research.google.com/assets/colab-badge.svg\" alt=\"Open In Colab\"/></a>"
      ]
    },
    {
      "cell_type": "markdown",
      "source": [
        "scikit-learn\n",
        "\n",
        "Strona biblioteki: https://scikit-learn.org\n",
        "\n",
        "Dokumentacja/User Guide: https://scikit-learn.org/stable/user_guide.html\n",
        "\n",
        "Podstawowa biblioteka do uczenia maszynowego w języku Python.\n",
        "\n",
        "aby zainstalować bibiliotekę scikit-learn, użyj polecenia poniżej:"
      ],
      "metadata": {
        "id": "8LE6on5faihf"
      }
    },
    {
      "cell_type": "code",
      "source": [
        "!pip install scikit-learn"
      ],
      "metadata": {
        "id": "6JKeUL-zbAv8"
      },
      "execution_count": null,
      "outputs": []
    },
    {
      "cell_type": "markdown",
      "source": [
        "Aby zaktualizaować do najnowszej wersji bibliotekę scikit-learn, użyj polecenia poniżej:"
      ],
      "metadata": {
        "id": "fXNZWglXbDql"
      }
    },
    {
      "cell_type": "code",
      "source": [
        "!pip install -upgrade scikit-learn"
      ],
      "metadata": {
        "id": "mwxyl5dTbIt4"
      },
      "execution_count": null,
      "outputs": []
    },
    {
      "cell_type": "markdown",
      "source": [
        "Kurs stworzony w oparciu o wersję 0.22.1\n",
        "\n",
        "Postprocessing danych:\n",
        "\n",
        "  1. [Import bibliotek](0)\n",
        "  2. [Wygenerowanie danych](1)\n",
        "  3. [Utworzenie kopii danych](2)\n",
        "  4. [Zmiana typu danych i wstępna espozycja](3)\n",
        "  5. [LabelEncoder](4)\n",
        "  6. [OneHotEncoder](5)\n",
        "  7. [Pandas get_dummies()](6)\n",
        "  8. [Standaryzacja - StandardScaler](7)\n",
        "  9. [Przygotowanie danych do modelu](8)"
      ],
      "metadata": {
        "id": "buxSDn1adNZj"
      }
    },
    {
      "cell_type": "markdown",
      "source": [
        "### <a name='0'></a> Import bibliotek"
      ],
      "metadata": {
        "id": "iRaBLWsydyFl"
      }
    },
    {
      "cell_type": "code",
      "source": [
        "[1] import numpy as np\n",
        "    import pandas as pd\n",
        "    import sklearn\n",
        "\n",
        "    sklearn.__version__"
      ],
      "metadata": {
        "colab": {
          "base_uri": "https://localhost:8080/",
          "height": 106
        },
        "id": "ucTdQkBKd9eD",
        "outputId": "16c71573-9a87-4989-a967-c4335f2ffce7"
      },
      "execution_count": 4,
      "outputs": [
        {
          "output_type": "error",
          "ename": "SyntaxError",
          "evalue": "invalid syntax (ipython-input-4-2675056204.py, line 1)",
          "traceback": [
            "\u001b[0;36m  File \u001b[0;32m\"/tmp/ipython-input-4-2675056204.py\"\u001b[0;36m, line \u001b[0;32m1\u001b[0m\n\u001b[0;31m    [1] import numpy as np\u001b[0m\n\u001b[0m        ^\u001b[0m\n\u001b[0;31mSyntaxError\u001b[0m\u001b[0;31m:\u001b[0m invalid syntax\n"
          ]
        }
      ]
    },
    {
      "cell_type": "markdown",
      "source": [
        "### <a name='1'></a> Wygenerowanie danych"
      ],
      "metadata": {
        "id": "WkL2nbnWfr1A"
      }
    },
    {
      "cell_type": "code",
      "source": [
        "[2]   data = {\n",
        "    'size': ['XL', 'L', 'M', 'L', 'M'],\n",
        "    'color': ['red', 'green', 'blue', 'green', 'red'],\n",
        "    'gender': ['female', 'male', 'male', 'female', 'female'],\n",
        "    'price': [199.0, 89.0, 99.0, 129.0, 79.0],\n",
        "    'weight': [500, 450, 300, 380, 410],\n",
        "    'bought': ['yes', 'no', 'yes', 'no', 'yes']\n",
        "}\n",
        "\n",
        "df_raw = pd.DataFrame(data=data)\n",
        "df_raw"
      ],
      "metadata": {
        "colab": {
          "base_uri": "https://localhost:8080/",
          "height": 106
        },
        "id": "rCnTRs1wgIq9",
        "outputId": "3937c772-542d-4620-c6cd-7c5ad7e5a345"
      },
      "execution_count": 3,
      "outputs": [
        {
          "output_type": "error",
          "ename": "SyntaxError",
          "evalue": "invalid syntax (ipython-input-3-1878577628.py, line 1)",
          "traceback": [
            "\u001b[0;36m  File \u001b[0;32m\"/tmp/ipython-input-3-1878577628.py\"\u001b[0;36m, line \u001b[0;32m1\u001b[0m\n\u001b[0;31m    [2]   data = {\u001b[0m\n\u001b[0m          ^\u001b[0m\n\u001b[0;31mSyntaxError\u001b[0m\u001b[0;31m:\u001b[0m invalid syntax\n"
          ]
        }
      ]
    }
  ]
}