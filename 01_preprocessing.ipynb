{
  "nbformat": 4,
  "nbformat_minor": 0,
  "metadata": {
    "colab": {
      "provenance": [],
      "authorship_tag": "ABX9TyN1omIeKBSUGw8lpdacvL1F",
      "include_colab_link": true
    },
    "kernelspec": {
      "name": "python3",
      "display_name": "Python 3"
    },
    "language_info": {
      "name": "python"
    }
  },
  "cells": [
    {
      "cell_type": "markdown",
      "metadata": {
        "id": "view-in-github",
        "colab_type": "text"
      },
      "source": [
        "<a href=\"https://colab.research.google.com/github/aashixomen/ML-bootcamp/blob/main/01_preprocessing.ipynb\" target=\"_parent\"><img src=\"https://colab.research.google.com/assets/colab-badge.svg\" alt=\"Open In Colab\"/></a>"
      ]
    },
    {
      "cell_type": "markdown",
      "source": [
        "scikit-learn\n",
        "\n",
        "Strona biblioteki: https://scikit-learn.org\n",
        "\n",
        "Dokumentacja/User Guide: https://scikit-learn.org/stable/user_guide.html\n",
        "\n",
        "Podstawowa biblioteka do uczenia maszynowego w języku Python.\n",
        "\n",
        "aby zainstalować bibiliotekę scikit-learn, użyj polecenia poniżej:"
      ],
      "metadata": {
        "id": "8LE6on5faihf"
      }
    },
    {
      "cell_type": "code",
      "source": [
        "!pip install scikit-learn"
      ],
      "metadata": {
        "id": "6JKeUL-zbAv8"
      },
      "execution_count": null,
      "outputs": []
    },
    {
      "cell_type": "markdown",
      "source": [
        "Aby zaktualizaować do najnowszej wersji bibliotekę scikit-learn, użyj polecenia poniżej:"
      ],
      "metadata": {
        "id": "fXNZWglXbDql"
      }
    },
    {
      "cell_type": "code",
      "source": [
        "!pip install -upgrade scikit-learn"
      ],
      "metadata": {
        "id": "mwxyl5dTbIt4"
      },
      "execution_count": null,
      "outputs": []
    },
    {
      "cell_type": "markdown",
      "source": [
        "Kurs stworzony w oparciu o wersję 0.22.1\n",
        "\n",
        "Postprocessing danych:\n"
      ],
      "metadata": {
        "id": "8KYOasNJbNbT"
      }
    }
  ]
}